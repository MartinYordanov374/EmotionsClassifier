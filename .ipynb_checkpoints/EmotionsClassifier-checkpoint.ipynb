{
 "cells": [
  {
   "cell_type": "markdown",
   "id": "5731bbf6",
   "metadata": {},
   "source": [
    "# Emotions classifier "
   ]
  },
  {
   "cell_type": "markdown",
   "id": "3b2eea11",
   "metadata": {},
   "source": [
    "## Project scope"
   ]
  },
  {
   "cell_type": "markdown",
   "id": "4116e84e",
   "metadata": {},
   "source": [
    "<p>The scope of this project is to create a classifier of human emotion expressed through text obtained from publicly available tweets. </p>"
   ]
  },
  {
   "cell_type": "markdown",
   "id": "2ec31af4",
   "metadata": {},
   "source": [
    "## Imports"
   ]
  },
  {
   "cell_type": "code",
   "execution_count": 139,
   "id": "c4d60cec",
   "metadata": {},
   "outputs": [],
   "source": [
    "import pandas as pd\n",
    "import matplotlib.pyplot as plt\n",
    "import nltk\n",
    "from nltk.tokenize import word_tokenize, sent_tokenize\n",
    "from nltk.corpus import stopwords\n",
    "import re\n",
    "import contractions\n",
    "from nltk.stem import WordNetLemmatizer\n",
    "from sklearn.neighbors import KNeighborsClassifier\n",
    "from sklearn.model_selection import train_test_split\n",
    "from sklearn.feature_extraction.text import TfidfVectorizer \n",
    "from sklearn.metrics import accuracy_score"
   ]
  },
  {
   "cell_type": "markdown",
   "id": "99bc4a64",
   "metadata": {},
   "source": [
    "# Exploratory data analysis"
   ]
  },
  {
   "cell_type": "markdown",
   "id": "dde90f2f",
   "metadata": {},
   "source": [
    "<p>Let's get to actually know our data and determine what we'll have to do with it in the preprocessing section, before we can proceed to training a classifier model on it.</p>"
   ]
  },
  {
   "cell_type": "code",
   "execution_count": 2,
   "id": "38e3bc2f",
   "metadata": {},
   "outputs": [],
   "source": [
    "tweets_data = pd.read_csv('./Data/tweet_emotions.csv')"
   ]
  },
  {
   "cell_type": "code",
   "execution_count": 3,
   "id": "885711cb",
   "metadata": {},
   "outputs": [
    {
     "data": {
      "text/html": [
       "<div>\n",
       "<style scoped>\n",
       "    .dataframe tbody tr th:only-of-type {\n",
       "        vertical-align: middle;\n",
       "    }\n",
       "\n",
       "    .dataframe tbody tr th {\n",
       "        vertical-align: top;\n",
       "    }\n",
       "\n",
       "    .dataframe thead th {\n",
       "        text-align: right;\n",
       "    }\n",
       "</style>\n",
       "<table border=\"1\" class=\"dataframe\">\n",
       "  <thead>\n",
       "    <tr style=\"text-align: right;\">\n",
       "      <th></th>\n",
       "      <th>tweet_id</th>\n",
       "      <th>sentiment</th>\n",
       "      <th>content</th>\n",
       "    </tr>\n",
       "  </thead>\n",
       "  <tbody>\n",
       "    <tr>\n",
       "      <th>0</th>\n",
       "      <td>1956967341</td>\n",
       "      <td>empty</td>\n",
       "      <td>@tiffanylue i know  i was listenin to bad habi...</td>\n",
       "    </tr>\n",
       "    <tr>\n",
       "      <th>1</th>\n",
       "      <td>1956967666</td>\n",
       "      <td>sadness</td>\n",
       "      <td>Layin n bed with a headache  ughhhh...waitin o...</td>\n",
       "    </tr>\n",
       "    <tr>\n",
       "      <th>2</th>\n",
       "      <td>1956967696</td>\n",
       "      <td>sadness</td>\n",
       "      <td>Funeral ceremony...gloomy friday...</td>\n",
       "    </tr>\n",
       "    <tr>\n",
       "      <th>3</th>\n",
       "      <td>1956967789</td>\n",
       "      <td>enthusiasm</td>\n",
       "      <td>wants to hang out with friends SOON!</td>\n",
       "    </tr>\n",
       "    <tr>\n",
       "      <th>4</th>\n",
       "      <td>1956968416</td>\n",
       "      <td>neutral</td>\n",
       "      <td>@dannycastillo We want to trade with someone w...</td>\n",
       "    </tr>\n",
       "    <tr>\n",
       "      <th>5</th>\n",
       "      <td>1956968477</td>\n",
       "      <td>worry</td>\n",
       "      <td>Re-pinging @ghostridah14: why didn't you go to...</td>\n",
       "    </tr>\n",
       "    <tr>\n",
       "      <th>6</th>\n",
       "      <td>1956968487</td>\n",
       "      <td>sadness</td>\n",
       "      <td>I should be sleep, but im not! thinking about ...</td>\n",
       "    </tr>\n",
       "    <tr>\n",
       "      <th>7</th>\n",
       "      <td>1956968636</td>\n",
       "      <td>worry</td>\n",
       "      <td>Hmmm. http://www.djhero.com/ is down</td>\n",
       "    </tr>\n",
       "    <tr>\n",
       "      <th>8</th>\n",
       "      <td>1956969035</td>\n",
       "      <td>sadness</td>\n",
       "      <td>@charviray Charlene my love. I miss you</td>\n",
       "    </tr>\n",
       "    <tr>\n",
       "      <th>9</th>\n",
       "      <td>1956969172</td>\n",
       "      <td>sadness</td>\n",
       "      <td>@kelcouch I'm sorry  at least it's Friday?</td>\n",
       "    </tr>\n",
       "  </tbody>\n",
       "</table>\n",
       "</div>"
      ],
      "text/plain": [
       "     tweet_id   sentiment                                            content\n",
       "0  1956967341       empty  @tiffanylue i know  i was listenin to bad habi...\n",
       "1  1956967666     sadness  Layin n bed with a headache  ughhhh...waitin o...\n",
       "2  1956967696     sadness                Funeral ceremony...gloomy friday...\n",
       "3  1956967789  enthusiasm               wants to hang out with friends SOON!\n",
       "4  1956968416     neutral  @dannycastillo We want to trade with someone w...\n",
       "5  1956968477       worry  Re-pinging @ghostridah14: why didn't you go to...\n",
       "6  1956968487     sadness  I should be sleep, but im not! thinking about ...\n",
       "7  1956968636       worry               Hmmm. http://www.djhero.com/ is down\n",
       "8  1956969035     sadness            @charviray Charlene my love. I miss you\n",
       "9  1956969172     sadness         @kelcouch I'm sorry  at least it's Friday?"
      ]
     },
     "execution_count": 3,
     "metadata": {},
     "output_type": "execute_result"
    }
   ],
   "source": [
    "tweets_data.head(10)"
   ]
  },
  {
   "cell_type": "markdown",
   "id": "780ff273",
   "metadata": {},
   "source": [
    "<p>I see we'll have to deal with special characters, elongated leters, inaccurate grammar, etc. Let's see how big is the dataset. </p>"
   ]
  },
  {
   "cell_type": "code",
   "execution_count": 4,
   "id": "27a7b894",
   "metadata": {
    "scrolled": true
   },
   "outputs": [
    {
     "data": {
      "text/html": [
       "<div>\n",
       "<style scoped>\n",
       "    .dataframe tbody tr th:only-of-type {\n",
       "        vertical-align: middle;\n",
       "    }\n",
       "\n",
       "    .dataframe tbody tr th {\n",
       "        vertical-align: top;\n",
       "    }\n",
       "\n",
       "    .dataframe thead th {\n",
       "        text-align: right;\n",
       "    }\n",
       "</style>\n",
       "<table border=\"1\" class=\"dataframe\">\n",
       "  <thead>\n",
       "    <tr style=\"text-align: right;\">\n",
       "      <th></th>\n",
       "      <th>tweet_id</th>\n",
       "    </tr>\n",
       "  </thead>\n",
       "  <tbody>\n",
       "    <tr>\n",
       "      <th>count</th>\n",
       "      <td>4.000000e+04</td>\n",
       "    </tr>\n",
       "    <tr>\n",
       "      <th>mean</th>\n",
       "      <td>1.845184e+09</td>\n",
       "    </tr>\n",
       "    <tr>\n",
       "      <th>std</th>\n",
       "      <td>1.188579e+08</td>\n",
       "    </tr>\n",
       "    <tr>\n",
       "      <th>min</th>\n",
       "      <td>1.693956e+09</td>\n",
       "    </tr>\n",
       "    <tr>\n",
       "      <th>25%</th>\n",
       "      <td>1.751431e+09</td>\n",
       "    </tr>\n",
       "    <tr>\n",
       "      <th>50%</th>\n",
       "      <td>1.855443e+09</td>\n",
       "    </tr>\n",
       "    <tr>\n",
       "      <th>75%</th>\n",
       "      <td>1.962781e+09</td>\n",
       "    </tr>\n",
       "    <tr>\n",
       "      <th>max</th>\n",
       "      <td>1.966441e+09</td>\n",
       "    </tr>\n",
       "  </tbody>\n",
       "</table>\n",
       "</div>"
      ],
      "text/plain": [
       "           tweet_id\n",
       "count  4.000000e+04\n",
       "mean   1.845184e+09\n",
       "std    1.188579e+08\n",
       "min    1.693956e+09\n",
       "25%    1.751431e+09\n",
       "50%    1.855443e+09\n",
       "75%    1.962781e+09\n",
       "max    1.966441e+09"
      ]
     },
     "execution_count": 4,
     "metadata": {},
     "output_type": "execute_result"
    }
   ],
   "source": [
    "tweets_data.describe()"
   ]
  },
  {
   "cell_type": "markdown",
   "id": "ccc2ec74",
   "metadata": {},
   "source": [
    "<p>Ok, we have 40000 records inside of our dataset, which means that we'll have to, eventually, break down the preprocessing iterative part into batches of smaller data, so that it all gets done quickly and less costly in terms of memory and processing power. </p>"
   ]
  },
  {
   "cell_type": "markdown",
   "id": "eb4ab9a9",
   "metadata": {},
   "source": [
    "<p>Let's see all of our sentiment classes, this is what we'll train our model to predict based on an input text.</p>"
   ]
  },
  {
   "cell_type": "code",
   "execution_count": 5,
   "id": "0ad1b192",
   "metadata": {},
   "outputs": [
    {
     "data": {
      "text/plain": [
       "array(['empty', 'sadness', 'enthusiasm', 'neutral', 'worry', 'surprise',\n",
       "       'love', 'fun', 'hate', 'happiness', 'boredom', 'relief', 'anger'],\n",
       "      dtype=object)"
      ]
     },
     "execution_count": 5,
     "metadata": {},
     "output_type": "execute_result"
    }
   ],
   "source": [
    "tweets_data['sentiment'].unique()"
   ]
  },
  {
   "cell_type": "markdown",
   "id": "b7f25688",
   "metadata": {},
   "source": [
    "<p>Ok, apparently we'll have to do multi-class classification, so logistic regression is out of the question for our classification model. Perhaps we could use K-Nearest Neighbour or a naive bayes classifier? Maybe even a random forest one? </p>"
   ]
  },
  {
   "cell_type": "markdown",
   "id": "5ed3b65d",
   "metadata": {},
   "source": [
    "<p>We should also see if our dataset, in terms of sentiments, is balanced i.e. if the dataset does not contain mostly enthusiasm or some other sentiment. </p>"
   ]
  },
  {
   "cell_type": "code",
   "execution_count": 6,
   "id": "43ab6a52",
   "metadata": {
    "scrolled": true
   },
   "outputs": [
    {
     "data": {
      "text/plain": [
       "<AxesSubplot: >"
      ]
     },
     "execution_count": 6,
     "metadata": {},
     "output_type": "execute_result"
    },
    {
     "data": {
      "image/png": "[encoded data removed]",
      "text/plain": [
       "<Figure size 640x480 with 1 Axes>"
      ]
     },
     "metadata": {},
     "output_type": "display_data"
    }
   ],
   "source": [
    "tweets_data['sentiment'].value_counts().plot(kind='bar')"
   ]
  },
  {
   "cell_type": "markdown",
   "id": "4dfb41de",
   "metadata": {},
   "source": [
    "<p>Obviously the model, with the current data, will be incredibly biased toward neutral and worry emotions because they make up most of the dataset. That's a problem we have to deal with. One way we could do that is to duplicate the lower values until they get up to the scale of the neutral and worry sentiments? Another one, which to me seems a lot more practical, is to use weighted loss for the classification model. Basically, we'll use scikit learn and tell it to assign a weight to all the sentiments that is inversely proportional to the sentiment's frequency in the dataset.</p>"
   ]
  },
  {
   "cell_type": "markdown",
   "id": "8b8d6f75",
   "metadata": {},
   "source": [
    "# Data preprocessing"
   ]
  },
  {
   "cell_type": "markdown",
   "id": "f75e606c",
   "metadata": {},
   "source": [
    "<p>Let's deal with the unbalanced dataset first, we'll do oversampling, although we probably risk to cause overfitting by doing that. </p>"
   ]
  },
  {
   "cell_type": "markdown",
   "id": "8503719b",
   "metadata": {},
   "source": [
    "<p>We'll calculate the amount of records we need to meet the class with the most records in our dataset and, by subtracting the amount of records we have in any other class from the class with the most records. Then we'll use the pandas sample method to do the sampling/repeating the data for us. </p>"
   ]
  },
  {
   "cell_type": "markdown",
   "id": "17d0ec56",
   "metadata": {},
   "source": [
    "<p>I think we should set up a threshold for oversampling certain columns or not, because we need to oversample the most \"under represented\" classes. Let's set that up to be the difference between the highest amount of records in a given class and the amount of records in any other class.</p> "
   ]
  },
  {
   "cell_type": "code",
   "execution_count": 174,
   "id": "5363507f",
   "metadata": {},
   "outputs": [],
   "source": [
    "oversampling_threshold = 4000"
   ]
  },
  {
   "cell_type": "code",
   "execution_count": 24,
   "id": "3ebc7bb5",
   "metadata": {},
   "outputs": [],
   "source": [
    "needed_data_points = tweets_data[tweets_data['sentiment'] == 'neutral'].count()['sentiment'] - tweets_data[tweets_data['sentiment'] == 'anger'].count()['sentiment']"
   ]
  },
  {
   "cell_type": "code",
   "execution_count": 175,
   "id": "f26af853",
   "metadata": {},
   "outputs": [],
   "source": [
    "oversampled_tweets_data = pd.DataFrame(columns=['sentiment', 'content'])\n",
    "for sentiment in tweets_data['sentiment'].unique():\n",
    "    needed_data_points = tweets_data[tweets_data['sentiment'] == 'neutral'].count()['sentiment'] - tweets_data[tweets_data['sentiment'] == sentiment].count()['sentiment']\n",
    "    if needed_data_points >= oversampling_threshold:\n",
    "        oversampled_data = tweets_data[tweets_data['sentiment'] == sentiment].sample(n = needed_data_points, replace=True)\n",
    "        oversampled_tweets_data = pd.concat([oversampled_data, oversampled_tweets_data])\n",
    "    else:\n",
    "        oversampled_tweets_data = pd.concat([tweets_data[tweets_data['sentiment'] == sentiment], oversampled_tweets_data])"
   ]
  },
  {
   "cell_type": "code",
   "execution_count": 176,
   "id": "92ad328a",
   "metadata": {},
   "outputs": [
    {
     "data": {
      "text/plain": [
       "<AxesSubplot: >"
      ]
     },
     "execution_count": 176,
     "metadata": {},
     "output_type": "execute_result"
    },
    {
     "data": {
      "image/png": "[encoded data removed]",
      "text/plain": [
       "<Figure size 640x480 with 1 Axes>"
      ]
     },
     "metadata": {},
     "output_type": "display_data"
    }
   ],
   "source": [
    "oversampled_tweets_data['sentiment'].value_counts().plot(kind='bar')"
   ]
  },
  {
   "cell_type": "markdown",
   "id": "11f49b42",
   "metadata": {},
   "source": [
    "<p> I think that's a lot better, compared to the first graph of the original dataset, although we could be risking overfitting - we've repeated a lot of the data in a given class to meet a certain number of records. </p>"
   ]
  },
  {
   "cell_type": "markdown",
   "id": "8250fe9c",
   "metadata": {},
   "source": [
    "<p> Let's get to the main part. First, we'll have to seperate the tweets into words, and then remove the stopwords and make all the words lower case, so that we don't get any unpleasant surprises later on. </p>"
   ]
  },
  {
   "cell_type": "code",
   "execution_count": 88,
   "id": "e19d60d7",
   "metadata": {},
   "outputs": [],
   "source": [
    "tweets = oversampled_tweets_data['content']"
   ]
  },
  {
   "cell_type": "code",
   "execution_count": 89,
   "id": "815d2abf",
   "metadata": {},
   "outputs": [],
   "source": [
    "words_tokenized_tweets = [word_tokenize(tweet_sentence) for tweet_sentence in tweets]"
   ]
  },
  {
   "cell_type": "code",
   "execution_count": 90,
   "id": "8d321f91",
   "metadata": {},
   "outputs": [
    {
     "data": {
      "text/plain": [
       "[['seriously',\n",
       "  'why',\n",
       "  'did',\n",
       "  'mum',\n",
       "  'make',\n",
       "  'me',\n",
       "  'eat',\n",
       "  'yeah',\n",
       "  'i',\n",
       "  'have',\n",
       "  'a',\n",
       "  'weird',\n",
       "  'eating',\n",
       "  'habit',\n",
       "  'of',\n",
       "  'not',\n",
       "  'eating',\n",
       "  'all',\n",
       "  'day',\n",
       "  'but',\n",
       "  'really'],\n",
       " ['@', 'BigCatJared', 'What', 'did', 'I', 'do', 'to', 'you', '!', 'sheesh'],\n",
       " ['I',\n",
       "  'tried',\n",
       "  'to',\n",
       "  'dye',\n",
       "  'my',\n",
       "  'hair',\n",
       "  'and',\n",
       "  'all',\n",
       "  'i',\n",
       "  'got',\n",
       "  'was',\n",
       "  'a',\n",
       "  'blond',\n",
       "  'chunk',\n",
       "  'in',\n",
       "  'the',\n",
       "  'front',\n",
       "  'middle',\n",
       "  'part',\n",
       "  'of',\n",
       "  'my',\n",
       "  'hair',\n",
       "  '.',\n",
       "  'Dang',\n",
       "  '.'],\n",
       " ['@',\n",
       "  'rmilana',\n",
       "  'Hey',\n",
       "  ',',\n",
       "  'Wahts',\n",
       "  'happening',\n",
       "  'in',\n",
       "  '#',\n",
       "  'coffeclub',\n",
       "  '..',\n",
       "  '?',\n",
       "  'I',\n",
       "  'didnt',\n",
       "  'have',\n",
       "  'coffee',\n",
       "  'for',\n",
       "  'two',\n",
       "  'days',\n",
       "  'now',\n",
       "  '@',\n",
       "  'dharshana'],\n",
       " ['Confuzzled']]"
      ]
     },
     "execution_count": 90,
     "metadata": {},
     "output_type": "execute_result"
    }
   ],
   "source": [
    "words_tokenized_tweets[0:5]"
   ]
  },
  {
   "cell_type": "code",
   "execution_count": 91,
   "id": "4a281685",
   "metadata": {},
   "outputs": [],
   "source": [
    "no_stopwords = [[word.lower() for word in tweet if word not in set(stopwords.words('english'))] for tweet in words_tokenized_tweets ]"
   ]
  },
  {
   "cell_type": "code",
   "execution_count": 92,
   "id": "c062598e",
   "metadata": {},
   "outputs": [
    {
     "data": {
      "text/plain": [
       "['seriously',\n",
       " 'mum',\n",
       " 'make',\n",
       " 'eat',\n",
       " 'yeah',\n",
       " 'weird',\n",
       " 'eating',\n",
       " 'habit',\n",
       " 'eating',\n",
       " 'day',\n",
       " 'really']"
      ]
     },
     "execution_count": 92,
     "metadata": {},
     "output_type": "execute_result"
    }
   ],
   "source": [
    "no_stopwords[0]"
   ]
  },
  {
   "cell_type": "markdown",
   "id": "4833d348",
   "metadata": {},
   "source": [
    "<p>It seems to be working, no stopwords seem to be present here. Now, let's remove anything that's not a word (I assume that excalamation and question marks do not show that much of an emotion as the individual words used in the context of the entire tweet). We'll use a regex for that. </p>"
   ]
  },
  {
   "cell_type": "code",
   "execution_count": 93,
   "id": "88cd3cfc",
   "metadata": {},
   "outputs": [],
   "source": [
    "words_only_sentences = [[word for word in tweet if not re.match('\\W+|\\d+', word) ] for tweet in no_stopwords ]"
   ]
  },
  {
   "cell_type": "code",
   "execution_count": 94,
   "id": "0a4de383",
   "metadata": {},
   "outputs": [
    {
     "data": {
      "text/plain": [
       "[['seriously',\n",
       "  'mum',\n",
       "  'make',\n",
       "  'eat',\n",
       "  'yeah',\n",
       "  'weird',\n",
       "  'eating',\n",
       "  'habit',\n",
       "  'eating',\n",
       "  'day',\n",
       "  'really'],\n",
       " ['bigcatjared', 'what', 'i', 'sheesh'],\n",
       " ['i',\n",
       "  'tried',\n",
       "  'dye',\n",
       "  'hair',\n",
       "  'got',\n",
       "  'blond',\n",
       "  'chunk',\n",
       "  'front',\n",
       "  'middle',\n",
       "  'part',\n",
       "  'hair',\n",
       "  'dang'],\n",
       " ['rmilana',\n",
       "  'hey',\n",
       "  'wahts',\n",
       "  'happening',\n",
       "  'coffeclub',\n",
       "  'i',\n",
       "  'didnt',\n",
       "  'coffee',\n",
       "  'two',\n",
       "  'days',\n",
       "  'dharshana'],\n",
       " ['confuzzled']]"
      ]
     },
     "execution_count": 94,
     "metadata": {},
     "output_type": "execute_result"
    }
   ],
   "source": [
    "words_only_sentences[0:5]"
   ]
  },
  {
   "cell_type": "markdown",
   "id": "5cac2cf5",
   "metadata": {},
   "source": [
    "<p> It seems to have worked, now we have to take care of the so called contraction words, such as: don't, can't, won't, etc. We'll expand them like so: don't - do not, can't - cannot, etc. </p>"
   ]
  },
  {
   "cell_type": "code",
   "execution_count": 95,
   "id": "0b13c609",
   "metadata": {},
   "outputs": [],
   "source": [
    "words_only_sentences = [[contractions.fix(word) for word in tweet] for tweet in words_only_sentences ]"
   ]
  },
  {
   "cell_type": "code",
   "execution_count": 96,
   "id": "1a6d919f",
   "metadata": {
    "scrolled": false
   },
   "outputs": [
    {
     "data": {
      "text/plain": [
       "[['seriously',\n",
       "  'mum',\n",
       "  'make',\n",
       "  'eat',\n",
       "  'yeah',\n",
       "  'weird',\n",
       "  'eating',\n",
       "  'habit',\n",
       "  'eating',\n",
       "  'day',\n",
       "  'really'],\n",
       " ['bigcatjared', 'what', 'i', 'sheesh'],\n",
       " ['i',\n",
       "  'tried',\n",
       "  'dye',\n",
       "  'hair',\n",
       "  'got',\n",
       "  'blond',\n",
       "  'chunk',\n",
       "  'front',\n",
       "  'middle',\n",
       "  'part',\n",
       "  'hair',\n",
       "  'dang'],\n",
       " ['rmilana',\n",
       "  'hey',\n",
       "  'wahts',\n",
       "  'happening',\n",
       "  'coffeclub',\n",
       "  'i',\n",
       "  'did not',\n",
       "  'coffee',\n",
       "  'two',\n",
       "  'days',\n",
       "  'dharshana'],\n",
       " ['confuzzled']]"
      ]
     },
     "execution_count": 96,
     "metadata": {},
     "output_type": "execute_result"
    }
   ],
   "source": [
    "words_only_sentences[0:5]"
   ]
  },
  {
   "cell_type": "markdown",
   "id": "c4a65059",
   "metadata": {},
   "source": [
    "<p> We have to, finally, lemmatize every word in our dataset. That means we'll turn every word into its base form, based on a look-up in a dictionary -> Running - run, planes -> plane, etc. The reason we want to use lemmatization over stemmatization is that lemmatization, at least in my humble experience, seems to give us words that make sense and are grammatically correct. On the other hand, stemmatization is known to give us results, such as: Flying -> Flyi, Running -> Runn, etc. We want to avoid that, even at the price of a more computationally expensive method (lemmatization).</p>"
   ]
  },
  {
   "cell_type": "markdown",
   "id": "36173fdf",
   "metadata": {},
   "source": [
    "<p> We will use NLTK's word net lemmatizer. </p>"
   ]
  },
  {
   "cell_type": "code",
   "execution_count": 97,
   "id": "d1e51764",
   "metadata": {},
   "outputs": [],
   "source": [
    "lemmatizer = WordNetLemmatizer()"
   ]
  },
  {
   "cell_type": "code",
   "execution_count": 98,
   "id": "59038a52",
   "metadata": {},
   "outputs": [],
   "source": [
    "lemmatized_verbs_words = [[lemmatizer.lemmatize(word, pos='v') for word in sentence] for sentence in words_only_sentences]"
   ]
  },
  {
   "cell_type": "code",
   "execution_count": 99,
   "id": "6f8a8c70",
   "metadata": {},
   "outputs": [
    {
     "data": {
      "text/plain": [
       "[['seriously',\n",
       "  'mum',\n",
       "  'make',\n",
       "  'eat',\n",
       "  'yeah',\n",
       "  'weird',\n",
       "  'eat',\n",
       "  'habit',\n",
       "  'eat',\n",
       "  'day',\n",
       "  'really'],\n",
       " ['bigcatjared', 'what', 'i', 'sheesh'],\n",
       " ['i',\n",
       "  'try',\n",
       "  'dye',\n",
       "  'hair',\n",
       "  'get',\n",
       "  'blond',\n",
       "  'chunk',\n",
       "  'front',\n",
       "  'middle',\n",
       "  'part',\n",
       "  'hair',\n",
       "  'dang'],\n",
       " ['rmilana',\n",
       "  'hey',\n",
       "  'wahts',\n",
       "  'happen',\n",
       "  'coffeclub',\n",
       "  'i',\n",
       "  'did not',\n",
       "  'coffee',\n",
       "  'two',\n",
       "  'days',\n",
       "  'dharshana'],\n",
       " ['confuzzled']]"
      ]
     },
     "execution_count": 99,
     "metadata": {},
     "output_type": "execute_result"
    }
   ],
   "source": [
    "lemmatized_verbs_words[0:5]"
   ]
  },
  {
   "cell_type": "markdown",
   "id": "4d7c4ed4",
   "metadata": {},
   "source": [
    "<p>It seems to be working for the correctly written verbs. A problem that arrises here is that we have incorrect words, such as \"layin\" which is supposed to be \"laying\". The lemmatizer doesn't finy such a word in WordNet and returns the original input (as specified in the documentation). One way I can think of dealing with that problem is if we have a COMPLETE list of all words in english and all their forms in all tenses and applying an edit distance algorithm over them, as to see which word is closest to the current word. Levenshtein distance would do well in that case, but we won't go as deep in this notebook and we'll leave that as it is. </p>"
   ]
  },
  {
   "cell_type": "markdown",
   "id": "f5858da5",
   "metadata": {},
   "source": [
    "Next, we'll lematize everything, but the verbs (as we've already lemmatized them earlier). If you notice we do not pass any pos(part of speech) parameter to the lemmatizer here, that is because if we don't specify the POS tag to lemmatize, everything else but the verbs is lemmatized. </p>"
   ]
  },
  {
   "cell_type": "code",
   "execution_count": 100,
   "id": "fc269766",
   "metadata": {},
   "outputs": [],
   "source": [
    "lemmatized_everything_else_words = [[lemmatizer.lemmatize(word) for word in sentence] for sentence in lemmatized_verbs_words]"
   ]
  },
  {
   "cell_type": "code",
   "execution_count": 101,
   "id": "fdc42864",
   "metadata": {
    "scrolled": true
   },
   "outputs": [
    {
     "data": {
      "text/plain": [
       "[['seriously',\n",
       "  'mum',\n",
       "  'make',\n",
       "  'eat',\n",
       "  'yeah',\n",
       "  'weird',\n",
       "  'eat',\n",
       "  'habit',\n",
       "  'eat',\n",
       "  'day',\n",
       "  'really'],\n",
       " ['bigcatjared', 'what', 'i', 'sheesh'],\n",
       " ['i',\n",
       "  'try',\n",
       "  'dye',\n",
       "  'hair',\n",
       "  'get',\n",
       "  'blond',\n",
       "  'chunk',\n",
       "  'front',\n",
       "  'middle',\n",
       "  'part',\n",
       "  'hair',\n",
       "  'dang'],\n",
       " ['rmilana',\n",
       "  'hey',\n",
       "  'wahts',\n",
       "  'happen',\n",
       "  'coffeclub',\n",
       "  'i',\n",
       "  'did not',\n",
       "  'coffee',\n",
       "  'two',\n",
       "  'day',\n",
       "  'dharshana'],\n",
       " ['confuzzled']]"
      ]
     },
     "execution_count": 101,
     "metadata": {},
     "output_type": "execute_result"
    }
   ],
   "source": [
    "lemmatized_everything_else_words[0:5]"
   ]
  },
  {
   "cell_type": "markdown",
   "id": "2f0fc295",
   "metadata": {},
   "source": [
    "<p>Let's now join the data together so that each sentence is complete and it refers to the correct index in the original data frame, this is because we'll later create a new data frame and we'll want to link each tweet with its original sentiment. </p>"
   ]
  },
  {
   "cell_type": "code",
   "execution_count": 102,
   "id": "859e37da",
   "metadata": {},
   "outputs": [],
   "source": [
    "joined_preprocessed_tweets = [\" \".join(tweet_words) for tweet_words in lemmatized_everything_else_words]"
   ]
  },
  {
   "cell_type": "code",
   "execution_count": 103,
   "id": "7f91475f",
   "metadata": {},
   "outputs": [
    {
     "data": {
      "text/plain": [
       "['seriously mum make eat yeah weird eat habit eat day really',\n",
       " 'bigcatjared what i sheesh',\n",
       " 'i try dye hair get blond chunk front middle part hair dang',\n",
       " 'rmilana hey wahts happen coffeclub i did not coffee two day dharshana',\n",
       " 'confuzzled']"
      ]
     },
     "execution_count": 103,
     "metadata": {},
     "output_type": "execute_result"
    }
   ],
   "source": [
    "joined_preprocessed_tweets[0:5]"
   ]
  },
  {
   "cell_type": "code",
   "execution_count": 104,
   "id": "6090e510",
   "metadata": {},
   "outputs": [],
   "source": [
    "vectorizer = TfidfVectorizer()"
   ]
  },
  {
   "cell_type": "code",
   "execution_count": 105,
   "id": "c1e92350",
   "metadata": {},
   "outputs": [],
   "source": [
    "Tfidf_Matrix = vectorizer.fit_transform(joined_preprocessed_tweets)"
   ]
  },
  {
   "cell_type": "markdown",
   "id": "6d212165",
   "metadata": {},
   "source": [
    "<p>Now, we'll create the preprocessed data frame that we'll use for the training of our models later on. </p>"
   ]
  },
  {
   "cell_type": "code",
   "execution_count": 106,
   "id": "2ae66ef1",
   "metadata": {},
   "outputs": [],
   "source": [
    "tweets_preprocessed = pd.DataFrame(Tfidf_Matrix.toarray(), columns=vectorizer.get_feature_names_out())"
   ]
  },
  {
   "cell_type": "code",
   "execution_count": 107,
   "id": "e12c3122",
   "metadata": {},
   "outputs": [
    {
     "data": {
      "text/html": [
       "<div>\n",
       "<style scoped>\n",
       "    .dataframe tbody tr th:only-of-type {\n",
       "        vertical-align: middle;\n",
       "    }\n",
       "\n",
       "    .dataframe tbody tr th {\n",
       "        vertical-align: top;\n",
       "    }\n",
       "\n",
       "    .dataframe thead th {\n",
       "        text-align: right;\n",
       "    }\n",
       "</style>\n",
       "<table border=\"1\" class=\"dataframe\">\n",
       "  <thead>\n",
       "    <tr style=\"text-align: right;\">\n",
       "      <th></th>\n",
       "      <th>01</th>\n",
       "      <th>07</th>\n",
       "      <th>09</th>\n",
       "      <th>10</th>\n",
       "      <th>100</th>\n",
       "      <th>11</th>\n",
       "      <th>12am</th>\n",
       "      <th>131</th>\n",
       "      <th>15</th>\n",
       "      <th>1654</th>\n",
       "      <th>...</th>\n",
       "      <th>½ulein</th>\n",
       "      <th>½ureo</th>\n",
       "      <th>½ve</th>\n",
       "      <th>½who</th>\n",
       "      <th>½why</th>\n",
       "      <th>½whyyy</th>\n",
       "      <th>½y</th>\n",
       "      <th>½you</th>\n",
       "      <th>½z</th>\n",
       "      <th>½ï</th>\n",
       "    </tr>\n",
       "  </thead>\n",
       "  <tbody>\n",
       "    <tr>\n",
       "      <th>0</th>\n",
       "      <td>0.0</td>\n",
       "      <td>0.0</td>\n",
       "      <td>0.0</td>\n",
       "      <td>0.0</td>\n",
       "      <td>0.0</td>\n",
       "      <td>0.0</td>\n",
       "      <td>0.0</td>\n",
       "      <td>0.0</td>\n",
       "      <td>0.0</td>\n",
       "      <td>0.0</td>\n",
       "      <td>...</td>\n",
       "      <td>0.0</td>\n",
       "      <td>0.0</td>\n",
       "      <td>0.0</td>\n",
       "      <td>0.0</td>\n",
       "      <td>0.0</td>\n",
       "      <td>0.0</td>\n",
       "      <td>0.0</td>\n",
       "      <td>0.0</td>\n",
       "      <td>0.0</td>\n",
       "      <td>0.0</td>\n",
       "    </tr>\n",
       "    <tr>\n",
       "      <th>1</th>\n",
       "      <td>0.0</td>\n",
       "      <td>0.0</td>\n",
       "      <td>0.0</td>\n",
       "      <td>0.0</td>\n",
       "      <td>0.0</td>\n",
       "      <td>0.0</td>\n",
       "      <td>0.0</td>\n",
       "      <td>0.0</td>\n",
       "      <td>0.0</td>\n",
       "      <td>0.0</td>\n",
       "      <td>...</td>\n",
       "      <td>0.0</td>\n",
       "      <td>0.0</td>\n",
       "      <td>0.0</td>\n",
       "      <td>0.0</td>\n",
       "      <td>0.0</td>\n",
       "      <td>0.0</td>\n",
       "      <td>0.0</td>\n",
       "      <td>0.0</td>\n",
       "      <td>0.0</td>\n",
       "      <td>0.0</td>\n",
       "    </tr>\n",
       "    <tr>\n",
       "      <th>2</th>\n",
       "      <td>0.0</td>\n",
       "      <td>0.0</td>\n",
       "      <td>0.0</td>\n",
       "      <td>0.0</td>\n",
       "      <td>0.0</td>\n",
       "      <td>0.0</td>\n",
       "      <td>0.0</td>\n",
       "      <td>0.0</td>\n",
       "      <td>0.0</td>\n",
       "      <td>0.0</td>\n",
       "      <td>...</td>\n",
       "      <td>0.0</td>\n",
       "      <td>0.0</td>\n",
       "      <td>0.0</td>\n",
       "      <td>0.0</td>\n",
       "      <td>0.0</td>\n",
       "      <td>0.0</td>\n",
       "      <td>0.0</td>\n",
       "      <td>0.0</td>\n",
       "      <td>0.0</td>\n",
       "      <td>0.0</td>\n",
       "    </tr>\n",
       "    <tr>\n",
       "      <th>3</th>\n",
       "      <td>0.0</td>\n",
       "      <td>0.0</td>\n",
       "      <td>0.0</td>\n",
       "      <td>0.0</td>\n",
       "      <td>0.0</td>\n",
       "      <td>0.0</td>\n",
       "      <td>0.0</td>\n",
       "      <td>0.0</td>\n",
       "      <td>0.0</td>\n",
       "      <td>0.0</td>\n",
       "      <td>...</td>\n",
       "      <td>0.0</td>\n",
       "      <td>0.0</td>\n",
       "      <td>0.0</td>\n",
       "      <td>0.0</td>\n",
       "      <td>0.0</td>\n",
       "      <td>0.0</td>\n",
       "      <td>0.0</td>\n",
       "      <td>0.0</td>\n",
       "      <td>0.0</td>\n",
       "      <td>0.0</td>\n",
       "    </tr>\n",
       "    <tr>\n",
       "      <th>4</th>\n",
       "      <td>0.0</td>\n",
       "      <td>0.0</td>\n",
       "      <td>0.0</td>\n",
       "      <td>0.0</td>\n",
       "      <td>0.0</td>\n",
       "      <td>0.0</td>\n",
       "      <td>0.0</td>\n",
       "      <td>0.0</td>\n",
       "      <td>0.0</td>\n",
       "      <td>0.0</td>\n",
       "      <td>...</td>\n",
       "      <td>0.0</td>\n",
       "      <td>0.0</td>\n",
       "      <td>0.0</td>\n",
       "      <td>0.0</td>\n",
       "      <td>0.0</td>\n",
       "      <td>0.0</td>\n",
       "      <td>0.0</td>\n",
       "      <td>0.0</td>\n",
       "      <td>0.0</td>\n",
       "      <td>0.0</td>\n",
       "    </tr>\n",
       "    <tr>\n",
       "      <th>5</th>\n",
       "      <td>0.0</td>\n",
       "      <td>0.0</td>\n",
       "      <td>0.0</td>\n",
       "      <td>0.0</td>\n",
       "      <td>0.0</td>\n",
       "      <td>0.0</td>\n",
       "      <td>0.0</td>\n",
       "      <td>0.0</td>\n",
       "      <td>0.0</td>\n",
       "      <td>0.0</td>\n",
       "      <td>...</td>\n",
       "      <td>0.0</td>\n",
       "      <td>0.0</td>\n",
       "      <td>0.0</td>\n",
       "      <td>0.0</td>\n",
       "      <td>0.0</td>\n",
       "      <td>0.0</td>\n",
       "      <td>0.0</td>\n",
       "      <td>0.0</td>\n",
       "      <td>0.0</td>\n",
       "      <td>0.0</td>\n",
       "    </tr>\n",
       "    <tr>\n",
       "      <th>6</th>\n",
       "      <td>0.0</td>\n",
       "      <td>0.0</td>\n",
       "      <td>0.0</td>\n",
       "      <td>0.0</td>\n",
       "      <td>0.0</td>\n",
       "      <td>0.0</td>\n",
       "      <td>0.0</td>\n",
       "      <td>0.0</td>\n",
       "      <td>0.0</td>\n",
       "      <td>0.0</td>\n",
       "      <td>...</td>\n",
       "      <td>0.0</td>\n",
       "      <td>0.0</td>\n",
       "      <td>0.0</td>\n",
       "      <td>0.0</td>\n",
       "      <td>0.0</td>\n",
       "      <td>0.0</td>\n",
       "      <td>0.0</td>\n",
       "      <td>0.0</td>\n",
       "      <td>0.0</td>\n",
       "      <td>0.0</td>\n",
       "    </tr>\n",
       "    <tr>\n",
       "      <th>7</th>\n",
       "      <td>0.0</td>\n",
       "      <td>0.0</td>\n",
       "      <td>0.0</td>\n",
       "      <td>0.0</td>\n",
       "      <td>0.0</td>\n",
       "      <td>0.0</td>\n",
       "      <td>0.0</td>\n",
       "      <td>0.0</td>\n",
       "      <td>0.0</td>\n",
       "      <td>0.0</td>\n",
       "      <td>...</td>\n",
       "      <td>0.0</td>\n",
       "      <td>0.0</td>\n",
       "      <td>0.0</td>\n",
       "      <td>0.0</td>\n",
       "      <td>0.0</td>\n",
       "      <td>0.0</td>\n",
       "      <td>0.0</td>\n",
       "      <td>0.0</td>\n",
       "      <td>0.0</td>\n",
       "      <td>0.0</td>\n",
       "    </tr>\n",
       "    <tr>\n",
       "      <th>8</th>\n",
       "      <td>0.0</td>\n",
       "      <td>0.0</td>\n",
       "      <td>0.0</td>\n",
       "      <td>0.0</td>\n",
       "      <td>0.0</td>\n",
       "      <td>0.0</td>\n",
       "      <td>0.0</td>\n",
       "      <td>0.0</td>\n",
       "      <td>0.0</td>\n",
       "      <td>0.0</td>\n",
       "      <td>...</td>\n",
       "      <td>0.0</td>\n",
       "      <td>0.0</td>\n",
       "      <td>0.0</td>\n",
       "      <td>0.0</td>\n",
       "      <td>0.0</td>\n",
       "      <td>0.0</td>\n",
       "      <td>0.0</td>\n",
       "      <td>0.0</td>\n",
       "      <td>0.0</td>\n",
       "      <td>0.0</td>\n",
       "    </tr>\n",
       "    <tr>\n",
       "      <th>9</th>\n",
       "      <td>0.0</td>\n",
       "      <td>0.0</td>\n",
       "      <td>0.0</td>\n",
       "      <td>0.0</td>\n",
       "      <td>0.0</td>\n",
       "      <td>0.0</td>\n",
       "      <td>0.0</td>\n",
       "      <td>0.0</td>\n",
       "      <td>0.0</td>\n",
       "      <td>0.0</td>\n",
       "      <td>...</td>\n",
       "      <td>0.0</td>\n",
       "      <td>0.0</td>\n",
       "      <td>0.0</td>\n",
       "      <td>0.0</td>\n",
       "      <td>0.0</td>\n",
       "      <td>0.0</td>\n",
       "      <td>0.0</td>\n",
       "      <td>0.0</td>\n",
       "      <td>0.0</td>\n",
       "      <td>0.0</td>\n",
       "    </tr>\n",
       "  </tbody>\n",
       "</table>\n",
       "<p>10 rows × 40130 columns</p>\n",
       "</div>"
      ],
      "text/plain": [
       "    01   07   09   10  100   11  12am  131   15  1654  ...  ½ulein  ½ureo  \\\n",
       "0  0.0  0.0  0.0  0.0  0.0  0.0   0.0  0.0  0.0   0.0  ...     0.0    0.0   \n",
       "1  0.0  0.0  0.0  0.0  0.0  0.0   0.0  0.0  0.0   0.0  ...     0.0    0.0   \n",
       "2  0.0  0.0  0.0  0.0  0.0  0.0   0.0  0.0  0.0   0.0  ...     0.0    0.0   \n",
       "3  0.0  0.0  0.0  0.0  0.0  0.0   0.0  0.0  0.0   0.0  ...     0.0    0.0   \n",
       "4  0.0  0.0  0.0  0.0  0.0  0.0   0.0  0.0  0.0   0.0  ...     0.0    0.0   \n",
       "5  0.0  0.0  0.0  0.0  0.0  0.0   0.0  0.0  0.0   0.0  ...     0.0    0.0   \n",
       "6  0.0  0.0  0.0  0.0  0.0  0.0   0.0  0.0  0.0   0.0  ...     0.0    0.0   \n",
       "7  0.0  0.0  0.0  0.0  0.0  0.0   0.0  0.0  0.0   0.0  ...     0.0    0.0   \n",
       "8  0.0  0.0  0.0  0.0  0.0  0.0   0.0  0.0  0.0   0.0  ...     0.0    0.0   \n",
       "9  0.0  0.0  0.0  0.0  0.0  0.0   0.0  0.0  0.0   0.0  ...     0.0    0.0   \n",
       "\n",
       "   ½ve  ½who  ½why  ½whyyy   ½y  ½you   ½z   ½ï  \n",
       "0  0.0   0.0   0.0     0.0  0.0   0.0  0.0  0.0  \n",
       "1  0.0   0.0   0.0     0.0  0.0   0.0  0.0  0.0  \n",
       "2  0.0   0.0   0.0     0.0  0.0   0.0  0.0  0.0  \n",
       "3  0.0   0.0   0.0     0.0  0.0   0.0  0.0  0.0  \n",
       "4  0.0   0.0   0.0     0.0  0.0   0.0  0.0  0.0  \n",
       "5  0.0   0.0   0.0     0.0  0.0   0.0  0.0  0.0  \n",
       "6  0.0   0.0   0.0     0.0  0.0   0.0  0.0  0.0  \n",
       "7  0.0   0.0   0.0     0.0  0.0   0.0  0.0  0.0  \n",
       "8  0.0   0.0   0.0     0.0  0.0   0.0  0.0  0.0  \n",
       "9  0.0   0.0   0.0     0.0  0.0   0.0  0.0  0.0  \n",
       "\n",
       "[10 rows x 40130 columns]"
      ]
     },
     "execution_count": 107,
     "metadata": {},
     "output_type": "execute_result"
    }
   ],
   "source": [
    "tweets_preprocessed.head(10)"
   ]
  },
  {
   "cell_type": "code",
   "execution_count": 170,
   "id": "8930c008",
   "metadata": {},
   "outputs": [],
   "source": [
    "preprocessed_tweets_df= pd.DataFrame({'content':joined_preprocessed_tweets, 'sentiment': oversampled_tweets_data['sentiment']})"
   ]
  },
  {
   "cell_type": "code",
   "execution_count": 171,
   "id": "3ab0815a",
   "metadata": {},
   "outputs": [
    {
     "data": {
      "text/html": [
       "<div>\n",
       "<style scoped>\n",
       "    .dataframe tbody tr th:only-of-type {\n",
       "        vertical-align: middle;\n",
       "    }\n",
       "\n",
       "    .dataframe tbody tr th {\n",
       "        vertical-align: top;\n",
       "    }\n",
       "\n",
       "    .dataframe thead th {\n",
       "        text-align: right;\n",
       "    }\n",
       "</style>\n",
       "<table border=\"1\" class=\"dataframe\">\n",
       "  <thead>\n",
       "    <tr style=\"text-align: right;\">\n",
       "      <th></th>\n",
       "      <th>content</th>\n",
       "      <th>sentiment</th>\n",
       "    </tr>\n",
       "  </thead>\n",
       "  <tbody>\n",
       "    <tr>\n",
       "      <th>16578</th>\n",
       "      <td>seriously mum make eat yeah weird eat habit ea...</td>\n",
       "      <td>anger</td>\n",
       "    </tr>\n",
       "    <tr>\n",
       "      <th>7698</th>\n",
       "      <td>bigcatjared what i sheesh</td>\n",
       "      <td>anger</td>\n",
       "    </tr>\n",
       "    <tr>\n",
       "      <th>1377</th>\n",
       "      <td>i try dye hair get blond chunk front middle pa...</td>\n",
       "      <td>anger</td>\n",
       "    </tr>\n",
       "    <tr>\n",
       "      <th>2619</th>\n",
       "      <td>rmilana hey wahts happen coffeclub i did not c...</td>\n",
       "      <td>anger</td>\n",
       "    </tr>\n",
       "    <tr>\n",
       "      <th>4378</th>\n",
       "      <td>confuzzled</td>\n",
       "      <td>anger</td>\n",
       "    </tr>\n",
       "  </tbody>\n",
       "</table>\n",
       "</div>"
      ],
      "text/plain": [
       "                                                 content sentiment\n",
       "16578  seriously mum make eat yeah weird eat habit ea...     anger\n",
       "7698                           bigcatjared what i sheesh     anger\n",
       "1377   i try dye hair get blond chunk front middle pa...     anger\n",
       "2619   rmilana hey wahts happen coffeclub i did not c...     anger\n",
       "4378                                          confuzzled     anger"
      ]
     },
     "execution_count": 171,
     "metadata": {},
     "output_type": "execute_result"
    }
   ],
   "source": [
    "preprocessed_tweets_df.head(5)"
   ]
  },
  {
   "cell_type": "markdown",
   "id": "9457316f",
   "metadata": {},
   "source": [
    "<p> I think we're ready with the preprocessing, we've achieved what we set out to achieve earlier in this section. Let's move on to the models building.</p>"
   ]
  },
  {
   "cell_type": "markdown",
   "id": "bd510bbc",
   "metadata": {},
   "source": [
    "# Models buidling"
   ]
  },
  {
   "cell_type": "markdown",
   "id": "0fa8cf8f",
   "metadata": {},
   "source": [
    "<p> As mentioned at the beginning of this notebook, we'll use either K-Nearest Neighbour(KNN) or a Naive Bayes Classificator, because it seems that these two are well-suited for our task (multi-class classification). Let's take a look at each of them, starting with K-Nearest Neighbour.</p>"
   ]
  },
  {
   "cell_type": "markdown",
   "id": "53416e99",
   "metadata": {},
   "source": [
    "## K-Nearest Neighbour (KNN)"
   ]
  },
  {
   "cell_type": "markdown",
   "id": "ffc95fad",
   "metadata": {},
   "source": [
    "<p>KNN is a supervised learning algorithm, which means that it needs a human (or any other sentient, intelligent being/creature/machine for that matter) to \"show\" it the correct way to classify whatever it's supposed to classify - be it images, user profiles, fake profiles, etc. </p>"
   ]
  },
  {
   "cell_type": "markdown",
   "id": "1e051968",
   "metadata": {},
   "source": [
    "<p>The reason we should consider KNN is because it does very well on classification tasks such as our task. It also does well with large sets of data, as most supervised learning algorithms in fact.</p>"
   ]
  },
  {
   "cell_type": "markdown",
   "id": "8ec14ef0",
   "metadata": {},
   "source": [
    "### K-Nearest Neighbour inner workings"
   ]
  },
  {
   "cell_type": "markdown",
   "id": "66b3e587",
   "metadata": {},
   "source": [
    "<p>Let's see what's behind the scenes of KNN, and what exactly does \"K\" stand for. </p>"
   ]
  },
  {
   "cell_type": "markdown",
   "id": "89af5d50",
   "metadata": {},
   "source": [
    "<p>When we plot our data points on a plot for the purpose of classification it usually tends to follow patterns, where a certain class data point positions itself around similar class data points, thus forming a cluster. Whenever we want to classify a new data, say a tweet as in our case, we just turn the data into numerical form(if it is not in such a form yet), plot it on that plot and we look for the closest neighbours to our data point. This is where \"K\" comes in. K stands for the amount of closest neighbors we want. The cluster of a given class of closest neighbours to our data points is considered to be the predicted class of our input data. As for the way the distance between each data point and our input data, it is euclidean distance and it uses the euclidean distance formula. It's probably appropriate to mention that it's also a good practice to set \"K\" to odd values such as 3 or 5, so that we don't get a tie between a couple of classes. Hopefully, that's clear enough. Let's get to the model building part. </p>"
   ]
  },
  {
   "cell_type": "markdown",
   "id": "2444f342",
   "metadata": {},
   "source": [
    "### K-Nearest Neighbour implementation"
   ]
  },
  {
   "cell_type": "markdown",
   "id": "02dcaac3",
   "metadata": {},
   "source": [
    "<p> First, we'll define our X and Y variables, respectively the given and predicted data - the tweet content and the predicted sentiment for the given tweet. We'll train our models on the tweets data, so we'll send in the vectorized data there, so that the computer could understand human text.</p>"
   ]
  },
  {
   "cell_type": "code",
   "execution_count": 126,
   "id": "24302150",
   "metadata": {},
   "outputs": [],
   "source": [
    "Y =  oversampled_tweets_data['sentiment']"
   ]
  },
  {
   "cell_type": "code",
   "execution_count": 127,
   "id": "33ce78c6",
   "metadata": {},
   "outputs": [],
   "source": [
    "X = Tfidf_Matrix"
   ]
  },
  {
   "cell_type": "code",
   "execution_count": 128,
   "id": "4037c063",
   "metadata": {},
   "outputs": [],
   "source": [
    "X_train, X_test, Y_train, Y_test = train_test_split(X, Y, train_size=0.9, random_state=42)"
   ]
  },
  {
   "cell_type": "markdown",
   "id": "59e0b0ce",
   "metadata": {},
   "source": [
    "<p>Here, we define our model usin SKLearn, I randomly picked 7 neighbours, so let's see the model's accuracy. </p>"
   ]
  },
  {
   "cell_type": "code",
   "execution_count": 162,
   "id": "e0a05498",
   "metadata": {},
   "outputs": [],
   "source": [
    "KNN_Classifier = KNeighborsClassifier(n_neighbors=7)"
   ]
  },
  {
   "cell_type": "code",
   "execution_count": 163,
   "id": "54912c0d",
   "metadata": {},
   "outputs": [],
   "source": [
    "KNN_model = KNN_Classifier.fit(X_train,Y_train)"
   ]
  },
  {
   "cell_type": "code",
   "execution_count": 164,
   "id": "2490891b",
   "metadata": {},
   "outputs": [],
   "source": [
    "y_pred = KNN_model.predict(X_test)"
   ]
  },
  {
   "cell_type": "code",
   "execution_count": 165,
   "id": "dd339746",
   "metadata": {
    "scrolled": true
   },
   "outputs": [
    {
     "data": {
      "text/plain": [
       "0.6808717229474592"
      ]
     },
     "execution_count": 165,
     "metadata": {},
     "output_type": "execute_result"
    }
   ],
   "source": [
    "accuracy_score(y_pred, Y_test)"
   ]
  },
  {
   "cell_type": "markdown",
   "id": "d73b02f2",
   "metadata": {},
   "source": [
    "<p>Not bad. Let's no do something called the elbow method. That's a method that lets us try different values of a given parameter and check the model's respective accuracy. Say we start with 3 neighbours and we get an accuracy of 50%, how much more can we increase the neighbours amount get a higher accuracy with minimalistic increase in neighbours amount. </p>"
   ]
  },
  {
   "cell_type": "code",
   "execution_count": 156,
   "id": "83a073bb",
   "metadata": {},
   "outputs": [],
   "source": [
    "scores = []\n",
    "neighbours_amounts = []\n",
    "for n_neighbours in range(3,20):\n",
    "    KNN_Classifier = KNeighborsClassifier(n_neighbors=n_neighbours)\n",
    "    KNN_model = KNN_Classifier.fit(X_train,Y_train)\n",
    "    y_pred = KNN_model.predict(X_test)\n",
    "    score = accuracy_score(y_pred, Y_test)\n",
    "    scores.append(score)\n",
    "    neighbours_amounts.append(n_neighbours)"
   ]
  },
  {
   "cell_type": "code",
   "execution_count": 157,
   "id": "757a7874",
   "metadata": {},
   "outputs": [
    {
     "data": {
      "text/plain": [
       "[<matplotlib.lines.Line2D at 0xa1b062990>]"
      ]
     },
     "execution_count": 157,
     "metadata": {},
     "output_type": "execute_result"
    },
    {
     "data": {
      "image/png": "[encoded data removed]",
      "text/plain": [
       "<Figure size 640x480 with 1 Axes>"
      ]
     },
     "metadata": {},
     "output_type": "display_data"
    }
   ],
   "source": [
    "plt.plot(neighbours_amounts, scores)"
   ]
  },
  {
   "cell_type": "markdown",
   "id": "bab1388f",
   "metadata": {},
   "source": [
    "<p>Apparently the best accuracy for our model is about 70% and it is at 5 neighbours amount. The accuracy afterward goes straight down. I don't think there's a need to testany futher because our model gets more complex at the expense of a lower accuracy. Let's see our model with 5 neighbours.</p>"
   ]
  },
  {
   "cell_type": "code",
   "execution_count": 166,
   "id": "55db4f3b",
   "metadata": {},
   "outputs": [],
   "source": [
    "KNN_Classifier = KNeighborsClassifier(n_neighbors=5)"
   ]
  },
  {
   "cell_type": "code",
   "execution_count": 167,
   "id": "14d3fab8",
   "metadata": {},
   "outputs": [],
   "source": [
    "KNN_model = KNN_Classifier.fit(X_train,Y_train)"
   ]
  },
  {
   "cell_type": "code",
   "execution_count": 168,
   "id": "2dc171b1",
   "metadata": {},
   "outputs": [],
   "source": [
    "y_pred = KNN_model.predict(X_test)"
   ]
  },
  {
   "cell_type": "code",
   "execution_count": 169,
   "id": "65c2c994",
   "metadata": {},
   "outputs": [
    {
     "data": {
      "text/plain": [
       "0.7124824684431977"
      ]
     },
     "execution_count": 169,
     "metadata": {},
     "output_type": "execute_result"
    }
   ],
   "source": [
    "accuracy_score(y_pred, Y_test)"
   ]
  }
 ],
 "metadata": {
  "kernelspec": {
   "display_name": "Python 3 (ipykernel)",
   "language": "python",
   "name": "python3"
  },
  "language_info": {
   "codemirror_mode": {
    "name": "ipython",
    "version": 3
   },
   "file_extension": ".py",
   "mimetype": "text/x-python",
   "name": "python",
   "nbconvert_exporter": "python",
   "pygments_lexer": "ipython3",
   "version": "3.11.1"
  }
 },
 "nbformat": 4,
 "nbformat_minor": 5
}
