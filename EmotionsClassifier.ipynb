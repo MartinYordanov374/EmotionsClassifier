{
 "cells": [
  {
   "cell_type": "markdown",
   "id": "5731bbf6",
   "metadata": {},
   "source": [
    "# Emotions classifier "
   ]
  },
  {
   "cell_type": "markdown",
   "id": "3b2eea11",
   "metadata": {},
   "source": [
    "## Project scope"
   ]
  },
  {
   "cell_type": "markdown",
   "id": "4116e84e",
   "metadata": {},
   "source": [
    "<p>The scope of this project is to create a classifier of human emotion expressed through text obtained from publicly available tweets. </p>"
   ]
  },
  {
   "cell_type": "markdown",
   "id": "2ec31af4",
   "metadata": {},
   "source": [
    "## Imports"
   ]
  },
  {
   "cell_type": "code",
   "execution_count": 38,
   "id": "c4d60cec",
   "metadata": {},
   "outputs": [],
   "source": [
    "import pandas as pd\n",
    "import matplotlib.pyplot as plt\n",
    "import nltk\n",
    "from nltk.tokenize import word_tokenize, sent_tokenize\n",
    "from nltk.corpus import stopwords\n",
    "import re\n",
    "import contractions\n",
    "from nltk.stem import WordNetLemmatizer\n",
    "from sklearn.neighbors import KNeighborsClassifier\n",
    "from sklearn.model_selection import train_test_split"
   ]
  },
  {
   "cell_type": "markdown",
   "id": "99bc4a64",
   "metadata": {},
   "source": [
    "# Exploratory data analysis"
   ]
  },
  {
   "cell_type": "markdown",
   "id": "dde90f2f",
   "metadata": {},
   "source": [
    "<p>Let's get to actually know our data and determine what we'll have to do with it in the preprocessing section, before we can proceed to training a classifier model on it.</p>"
   ]
  },
  {
   "cell_type": "code",
   "execution_count": 2,
   "id": "38e3bc2f",
   "metadata": {},
   "outputs": [],
   "source": [
    "tweets_data = pd.read_csv('./Data/tweet_emotions.csv')"
   ]
  },
  {
   "cell_type": "code",
   "execution_count": 3,
   "id": "885711cb",
   "metadata": {},
   "outputs": [
    {
     "data": {
      "text/html": [
       "<div>\n",
       "<style scoped>\n",
       "    .dataframe tbody tr th:only-of-type {\n",
       "        vertical-align: middle;\n",
       "    }\n",
       "\n",
       "    .dataframe tbody tr th {\n",
       "        vertical-align: top;\n",
       "    }\n",
       "\n",
       "    .dataframe thead th {\n",
       "        text-align: right;\n",
       "    }\n",
       "</style>\n",
       "<table border=\"1\" class=\"dataframe\">\n",
       "  <thead>\n",
       "    <tr style=\"text-align: right;\">\n",
       "      <th></th>\n",
       "      <th>tweet_id</th>\n",
       "      <th>sentiment</th>\n",
       "      <th>content</th>\n",
       "    </tr>\n",
       "  </thead>\n",
       "  <tbody>\n",
       "    <tr>\n",
       "      <th>0</th>\n",
       "      <td>1956967341</td>\n",
       "      <td>empty</td>\n",
       "      <td>@tiffanylue i know  i was listenin to bad habi...</td>\n",
       "    </tr>\n",
       "    <tr>\n",
       "      <th>1</th>\n",
       "      <td>1956967666</td>\n",
       "      <td>sadness</td>\n",
       "      <td>Layin n bed with a headache  ughhhh...waitin o...</td>\n",
       "    </tr>\n",
       "    <tr>\n",
       "      <th>2</th>\n",
       "      <td>1956967696</td>\n",
       "      <td>sadness</td>\n",
       "      <td>Funeral ceremony...gloomy friday...</td>\n",
       "    </tr>\n",
       "    <tr>\n",
       "      <th>3</th>\n",
       "      <td>1956967789</td>\n",
       "      <td>enthusiasm</td>\n",
       "      <td>wants to hang out with friends SOON!</td>\n",
       "    </tr>\n",
       "    <tr>\n",
       "      <th>4</th>\n",
       "      <td>1956968416</td>\n",
       "      <td>neutral</td>\n",
       "      <td>@dannycastillo We want to trade with someone w...</td>\n",
       "    </tr>\n",
       "    <tr>\n",
       "      <th>5</th>\n",
       "      <td>1956968477</td>\n",
       "      <td>worry</td>\n",
       "      <td>Re-pinging @ghostridah14: why didn't you go to...</td>\n",
       "    </tr>\n",
       "    <tr>\n",
       "      <th>6</th>\n",
       "      <td>1956968487</td>\n",
       "      <td>sadness</td>\n",
       "      <td>I should be sleep, but im not! thinking about ...</td>\n",
       "    </tr>\n",
       "    <tr>\n",
       "      <th>7</th>\n",
       "      <td>1956968636</td>\n",
       "      <td>worry</td>\n",
       "      <td>Hmmm. http://www.djhero.com/ is down</td>\n",
       "    </tr>\n",
       "    <tr>\n",
       "      <th>8</th>\n",
       "      <td>1956969035</td>\n",
       "      <td>sadness</td>\n",
       "      <td>@charviray Charlene my love. I miss you</td>\n",
       "    </tr>\n",
       "    <tr>\n",
       "      <th>9</th>\n",
       "      <td>1956969172</td>\n",
       "      <td>sadness</td>\n",
       "      <td>@kelcouch I'm sorry  at least it's Friday?</td>\n",
       "    </tr>\n",
       "  </tbody>\n",
       "</table>\n",
       "</div>"
      ],
      "text/plain": [
       "     tweet_id   sentiment                                            content\n",
       "0  1956967341       empty  @tiffanylue i know  i was listenin to bad habi...\n",
       "1  1956967666     sadness  Layin n bed with a headache  ughhhh...waitin o...\n",
       "2  1956967696     sadness                Funeral ceremony...gloomy friday...\n",
       "3  1956967789  enthusiasm               wants to hang out with friends SOON!\n",
       "4  1956968416     neutral  @dannycastillo We want to trade with someone w...\n",
       "5  1956968477       worry  Re-pinging @ghostridah14: why didn't you go to...\n",
       "6  1956968487     sadness  I should be sleep, but im not! thinking about ...\n",
       "7  1956968636       worry               Hmmm. http://www.djhero.com/ is down\n",
       "8  1956969035     sadness            @charviray Charlene my love. I miss you\n",
       "9  1956969172     sadness         @kelcouch I'm sorry  at least it's Friday?"
      ]
     },
     "execution_count": 3,
     "metadata": {},
     "output_type": "execute_result"
    }
   ],
   "source": [
    "tweets_data.head(10)"
   ]
  },
  {
   "cell_type": "markdown",
   "id": "780ff273",
   "metadata": {},
   "source": [
    "<p>I see we'll have to deal with special characters, elongated leters, inaccurate grammar, etc. Let's see how big is the dataset. </p>"
   ]
  },
  {
   "cell_type": "code",
   "execution_count": 4,
   "id": "27a7b894",
   "metadata": {},
   "outputs": [
    {
     "data": {
      "text/html": [
       "<div>\n",
       "<style scoped>\n",
       "    .dataframe tbody tr th:only-of-type {\n",
       "        vertical-align: middle;\n",
       "    }\n",
       "\n",
       "    .dataframe tbody tr th {\n",
       "        vertical-align: top;\n",
       "    }\n",
       "\n",
       "    .dataframe thead th {\n",
       "        text-align: right;\n",
       "    }\n",
       "</style>\n",
       "<table border=\"1\" class=\"dataframe\">\n",
       "  <thead>\n",
       "    <tr style=\"text-align: right;\">\n",
       "      <th></th>\n",
       "      <th>tweet_id</th>\n",
       "    </tr>\n",
       "  </thead>\n",
       "  <tbody>\n",
       "    <tr>\n",
       "      <th>count</th>\n",
       "      <td>4.000000e+04</td>\n",
       "    </tr>\n",
       "    <tr>\n",
       "      <th>mean</th>\n",
       "      <td>1.845184e+09</td>\n",
       "    </tr>\n",
       "    <tr>\n",
       "      <th>std</th>\n",
       "      <td>1.188579e+08</td>\n",
       "    </tr>\n",
       "    <tr>\n",
       "      <th>min</th>\n",
       "      <td>1.693956e+09</td>\n",
       "    </tr>\n",
       "    <tr>\n",
       "      <th>25%</th>\n",
       "      <td>1.751431e+09</td>\n",
       "    </tr>\n",
       "    <tr>\n",
       "      <th>50%</th>\n",
       "      <td>1.855443e+09</td>\n",
       "    </tr>\n",
       "    <tr>\n",
       "      <th>75%</th>\n",
       "      <td>1.962781e+09</td>\n",
       "    </tr>\n",
       "    <tr>\n",
       "      <th>max</th>\n",
       "      <td>1.966441e+09</td>\n",
       "    </tr>\n",
       "  </tbody>\n",
       "</table>\n",
       "</div>"
      ],
      "text/plain": [
       "           tweet_id\n",
       "count  4.000000e+04\n",
       "mean   1.845184e+09\n",
       "std    1.188579e+08\n",
       "min    1.693956e+09\n",
       "25%    1.751431e+09\n",
       "50%    1.855443e+09\n",
       "75%    1.962781e+09\n",
       "max    1.966441e+09"
      ]
     },
     "execution_count": 4,
     "metadata": {},
     "output_type": "execute_result"
    }
   ],
   "source": [
    "tweets_data.describe()"
   ]
  },
  {
   "cell_type": "markdown",
   "id": "ccc2ec74",
   "metadata": {},
   "source": [
    "<p>Ok, we have 40000 records inside of our dataset, which means that we'll have to, eventually, break down the preprocessing iterative part into batches of smaller data, so that it all gets done quickly and less costly in terms of memory and processing power. </p>"
   ]
  },
  {
   "cell_type": "markdown",
   "id": "eb4ab9a9",
   "metadata": {},
   "source": [
    "<p>Let's see all of our sentiment classes, this is what we'll train our model to predict based on an input text.</p>"
   ]
  },
  {
   "cell_type": "code",
   "execution_count": 5,
   "id": "0ad1b192",
   "metadata": {},
   "outputs": [
    {
     "data": {
      "text/plain": [
       "array(['empty', 'sadness', 'enthusiasm', 'neutral', 'worry', 'surprise',\n",
       "       'love', 'fun', 'hate', 'happiness', 'boredom', 'relief', 'anger'],\n",
       "      dtype=object)"
      ]
     },
     "execution_count": 5,
     "metadata": {},
     "output_type": "execute_result"
    }
   ],
   "source": [
    "tweets_data['sentiment'].unique()"
   ]
  },
  {
   "cell_type": "markdown",
   "id": "b7f25688",
   "metadata": {},
   "source": [
    "<p>Ok, apparently we'll have to do multi-class classification, so logistic regression is out of the question for our classification model. Perhaps we could use K-Nearest Neighbour or a naive bayes classifier? Maybe even a random forest one? </p>"
   ]
  },
  {
   "cell_type": "markdown",
   "id": "5ed3b65d",
   "metadata": {},
   "source": [
    "<p>We should also see if our dataset, in terms of sentiments, is balanced i.e. if the dataset does not contain mostly enthusiasm or some other sentiment. </p>"
   ]
  },
  {
   "cell_type": "code",
   "execution_count": 6,
   "id": "43ab6a52",
   "metadata": {},
   "outputs": [
    {
     "data": {
      "text/plain": [
       "<AxesSubplot: >"
      ]
     },
     "execution_count": 6,
     "metadata": {},
     "output_type": "execute_result"
    },
    {
     "data": {
      "image/png": "[encoded data removed]",
      "text/plain": [
       "<Figure size 640x480 with 1 Axes>"
      ]
     },
     "metadata": {},
     "output_type": "display_data"
    }
   ],
   "source": [
    "tweets_data['sentiment'].value_counts().plot(kind='bar')"
   ]
  },
  {
   "cell_type": "markdown",
   "id": "4dfb41de",
   "metadata": {},
   "source": [
    "<p>Obviously the model, with the current data, will be incredibly biased toward neutral and worry emotions because they make up most of the dataset. That's a problem we have to deal with. One way we could do that is to duplicate the lower values until they get up to the scale of the neutral and worry sentiments? Another one, which to me seems a lot more practical, is to use weighted loss for the classification model. Basically, we'll use scikit learn and tell it to assign a weight to all the sentiments that is inversely proportional to the sentiment's frequency in the dataset.</p>"
   ]
  },
  {
   "cell_type": "markdown",
   "id": "8b8d6f75",
   "metadata": {},
   "source": [
    "# Data preprocessing"
   ]
  },
  {
   "cell_type": "markdown",
   "id": "8250fe9c",
   "metadata": {},
   "source": [
    "<p> First, we'll have to seperate the tweets into words, and then remove the stopwords and make all the words lower case, so that we don't get any unpleasant surprises later on. </p>"
   ]
  },
  {
   "cell_type": "code",
   "execution_count": 7,
   "id": "e19d60d7",
   "metadata": {},
   "outputs": [],
   "source": [
    "tweets = tweets_data['content']"
   ]
  },
  {
   "cell_type": "code",
   "execution_count": 8,
   "id": "815d2abf",
   "metadata": {},
   "outputs": [],
   "source": [
    "words_tokenized_tweets = [word_tokenize(tweet_sentence) for tweet_sentence in tweets]"
   ]
  },
  {
   "cell_type": "code",
   "execution_count": 35,
   "id": "8d321f91",
   "metadata": {},
   "outputs": [
    {
     "data": {
      "text/plain": [
       "[['@',\n",
       "  'tiffanylue',\n",
       "  'i',\n",
       "  'know',\n",
       "  'i',\n",
       "  'was',\n",
       "  'listenin',\n",
       "  'to',\n",
       "  'bad',\n",
       "  'habit',\n",
       "  'earlier',\n",
       "  'and',\n",
       "  'i',\n",
       "  'started',\n",
       "  'freakin',\n",
       "  'at',\n",
       "  'his',\n",
       "  'part',\n",
       "  '=',\n",
       "  '['],\n",
       " ['Layin',\n",
       "  'n',\n",
       "  'bed',\n",
       "  'with',\n",
       "  'a',\n",
       "  'headache',\n",
       "  'ughhhh',\n",
       "  '...',\n",
       "  'waitin',\n",
       "  'on',\n",
       "  'your',\n",
       "  'call',\n",
       "  '...'],\n",
       " ['Funeral', 'ceremony', '...', 'gloomy', 'friday', '...'],\n",
       " ['wants', 'to', 'hang', 'out', 'with', 'friends', 'SOON', '!'],\n",
       " ['@',\n",
       "  'dannycastillo',\n",
       "  'We',\n",
       "  'want',\n",
       "  'to',\n",
       "  'trade',\n",
       "  'with',\n",
       "  'someone',\n",
       "  'who',\n",
       "  'has',\n",
       "  'Houston',\n",
       "  'tickets',\n",
       "  ',',\n",
       "  'but',\n",
       "  'no',\n",
       "  'one',\n",
       "  'will',\n",
       "  '.']]"
      ]
     },
     "execution_count": 35,
     "metadata": {},
     "output_type": "execute_result"
    }
   ],
   "source": [
    "words_tokenized_tweets[0:5]"
   ]
  },
  {
   "cell_type": "code",
   "execution_count": 10,
   "id": "4a281685",
   "metadata": {},
   "outputs": [],
   "source": [
    "no_stopwords = [[word.lower() for word in tweet if word not in set(stopwords.words('english'))] for tweet in words_tokenized_tweets ]"
   ]
  },
  {
   "cell_type": "code",
   "execution_count": 11,
   "id": "c062598e",
   "metadata": {},
   "outputs": [
    {
     "data": {
      "text/plain": [
       "['@',\n",
       " 'tiffanylue',\n",
       " 'know',\n",
       " 'listenin',\n",
       " 'bad',\n",
       " 'habit',\n",
       " 'earlier',\n",
       " 'started',\n",
       " 'freakin',\n",
       " 'part',\n",
       " '=',\n",
       " '[']"
      ]
     },
     "execution_count": 11,
     "metadata": {},
     "output_type": "execute_result"
    }
   ],
   "source": [
    "no_stopwords[0]"
   ]
  },
  {
   "cell_type": "markdown",
   "id": "4833d348",
   "metadata": {},
   "source": [
    "<p>It seems to be working, no stopwords seem to be present here. Now, let's remove anything that's not a word (I assume that excalamation and question marks do not show that much of an emotion as the individual words used in the context of the entire tweet). We'll use a regex for that. </p>"
   ]
  },
  {
   "cell_type": "code",
   "execution_count": 12,
   "id": "88cd3cfc",
   "metadata": {},
   "outputs": [],
   "source": [
    "words_only_sentences = [[word for word in tweet if not re.match('\\W+|\\d+', word) ] for tweet in no_stopwords ]"
   ]
  },
  {
   "cell_type": "code",
   "execution_count": 13,
   "id": "0a4de383",
   "metadata": {},
   "outputs": [
    {
     "data": {
      "text/plain": [
       "[['tiffanylue',\n",
       "  'know',\n",
       "  'listenin',\n",
       "  'bad',\n",
       "  'habit',\n",
       "  'earlier',\n",
       "  'started',\n",
       "  'freakin',\n",
       "  'part'],\n",
       " ['layin', 'n', 'bed', 'headache', 'ughhhh', 'waitin', 'call'],\n",
       " ['funeral', 'ceremony', 'gloomy', 'friday'],\n",
       " ['wants', 'hang', 'friends', 'soon'],\n",
       " ['dannycastillo',\n",
       "  'we',\n",
       "  'want',\n",
       "  'trade',\n",
       "  'someone',\n",
       "  'houston',\n",
       "  'tickets',\n",
       "  'one']]"
      ]
     },
     "execution_count": 13,
     "metadata": {},
     "output_type": "execute_result"
    }
   ],
   "source": [
    "words_only_sentences[0:5]"
   ]
  },
  {
   "cell_type": "markdown",
   "id": "5cac2cf5",
   "metadata": {},
   "source": [
    "<p> It seems to have worked, now we have to take care of the so called contraction words, such as: don't, can't, won't, etc. We'll expand them like so: don't - do not, can't - cannot, etc. </p>"
   ]
  },
  {
   "cell_type": "code",
   "execution_count": 14,
   "id": "0b13c609",
   "metadata": {},
   "outputs": [],
   "source": [
    "words_only_sentences = [[contractions.fix(word) for word in tweet] for tweet in words_only_sentences ]"
   ]
  },
  {
   "cell_type": "code",
   "execution_count": 15,
   "id": "1a6d919f",
   "metadata": {
    "scrolled": false
   },
   "outputs": [
    {
     "data": {
      "text/plain": [
       "[['tiffanylue',\n",
       "  'know',\n",
       "  'listenin',\n",
       "  'bad',\n",
       "  'habit',\n",
       "  'earlier',\n",
       "  'started',\n",
       "  'freakin',\n",
       "  'part'],\n",
       " ['layin', 'n', 'bed', 'headache', 'ughhhh', 'waitin', 'call'],\n",
       " ['funeral', 'ceremony', 'gloomy', 'friday'],\n",
       " ['wants', 'hang', 'friends', 'soon'],\n",
       " ['dannycastillo',\n",
       "  'we',\n",
       "  'want',\n",
       "  'trade',\n",
       "  'someone',\n",
       "  'houston',\n",
       "  'tickets',\n",
       "  'one']]"
      ]
     },
     "execution_count": 15,
     "metadata": {},
     "output_type": "execute_result"
    }
   ],
   "source": [
    "words_only_sentences[0:5]"
   ]
  },
  {
   "cell_type": "markdown",
   "id": "c4a65059",
   "metadata": {},
   "source": [
    "<p> We have to, finally, lemmatize every word in our dataset. That means we'll turn every word into its base form, based on a look-up in a dictionary -> Running - run, planes -> plane, etc. The reason we want to use lemmatization over stemmatization is that lemmatization, at least in my humble experience, seems to give us words that make sense and are grammatically correct. On the other hand, stemmatization is known to give us results, such as: Flying -> Flyi, Running -> Runn, etc. We want to avoid that, even at the price of a more computationally expensive method (lemmatization).</p>"
   ]
  },
  {
   "cell_type": "markdown",
   "id": "36173fdf",
   "metadata": {},
   "source": [
    "<p> We will use NLTK's word net lemmatizer. </p>"
   ]
  },
  {
   "cell_type": "code",
   "execution_count": 22,
   "id": "d1e51764",
   "metadata": {},
   "outputs": [],
   "source": [
    "lemmatizer = WordNetLemmatizer()\n",
    "stemmer = PorterStemmer()"
   ]
  },
  {
   "cell_type": "code",
   "execution_count": 17,
   "id": "59038a52",
   "metadata": {},
   "outputs": [],
   "source": [
    "lemmatized_verbs_words = [[lemmatizer.lemmatize(word, pos='v') for word in sentence] for sentence in words_only_sentences]"
   ]
  },
  {
   "cell_type": "code",
   "execution_count": 31,
   "id": "6f8a8c70",
   "metadata": {},
   "outputs": [
    {
     "data": {
      "text/plain": [
       "[['tiffanylue',\n",
       "  'know',\n",
       "  'listenin',\n",
       "  'bad',\n",
       "  'habit',\n",
       "  'earlier',\n",
       "  'start',\n",
       "  'freakin',\n",
       "  'part'],\n",
       " ['layin', 'n', 'bed', 'headache', 'ughhhh', 'waitin', 'call'],\n",
       " ['funeral', 'ceremony', 'gloomy', 'friday'],\n",
       " ['want', 'hang', 'friends', 'soon'],\n",
       " ['dannycastillo',\n",
       "  'we',\n",
       "  'want',\n",
       "  'trade',\n",
       "  'someone',\n",
       "  'houston',\n",
       "  'ticket',\n",
       "  'one']]"
      ]
     },
     "execution_count": 31,
     "metadata": {},
     "output_type": "execute_result"
    }
   ],
   "source": [
    "lemmatized_verbs_words[0:5]"
   ]
  },
  {
   "cell_type": "markdown",
   "id": "c41dfa67",
   "metadata": {},
   "source": [
    "<p>It seems to be working for the correctly written verbs. A problem that arrises here is that we have incorrect words, such as \"layin\" which is supposed to be \"laying\". The lemmatizer doesn't finy such a word in WordNet and returns the original input (as specified in the documentation). One way I can think of dealing with that problem is if we have a COMPLETE list of all words in english and all their forms in all tenses and applying an edit distance algorithm over them, as to see which word is closest to the current word. Levenshtein distance would do well in that case, but we won't go as deep in this notebook and we'll leave that as it is. </p>"
   ]
  },
  {
   "cell_type": "markdown",
   "id": "ac4b7d29",
   "metadata": {},
   "source": [
    "Next, we'll lematize everything, but the verbs (as we've already lemmatized them earlier). If you notice we do not pass any pos(part of speech) parameter to the lemmatizer here, that is because if we don't specify the POS tag to lemmatize, everything else but the verbs is lemmatized. </p>"
   ]
  },
  {
   "cell_type": "code",
   "execution_count": 32,
   "id": "043d1649",
   "metadata": {},
   "outputs": [],
   "source": [
    "lemmatized_everything_else_words = [[lemmatizer.lemmatize(word) for word in sentence] for sentence in lemmatized_verbs_words]"
   ]
  },
  {
   "cell_type": "code",
   "execution_count": 34,
   "id": "722c9264",
   "metadata": {
    "scrolled": true
   },
   "outputs": [
    {
     "data": {
      "text/plain": [
       "[['tiffanylue',\n",
       "  'know',\n",
       "  'listenin',\n",
       "  'bad',\n",
       "  'habit',\n",
       "  'earlier',\n",
       "  'start',\n",
       "  'freakin',\n",
       "  'part'],\n",
       " ['layin', 'n', 'bed', 'headache', 'ughhhh', 'waitin', 'call'],\n",
       " ['funeral', 'ceremony', 'gloomy', 'friday'],\n",
       " ['want', 'hang', 'friend', 'soon'],\n",
       " ['dannycastillo',\n",
       "  'we',\n",
       "  'want',\n",
       "  'trade',\n",
       "  'someone',\n",
       "  'houston',\n",
       "  'ticket',\n",
       "  'one']]"
      ]
     },
     "execution_count": 34,
     "metadata": {},
     "output_type": "execute_result"
    }
   ],
   "source": [
    "lemmatized_everything_else_words[0:5]"
   ]
  },
  {
   "cell_type": "markdown",
   "id": "52d79083",
   "metadata": {},
   "source": [
    "<p>Let's now join the data together so that each sentence is complete and it refers to the correct index in the original data frame, this is because we'll later create a new data frame and we'll want to link each tweet with its original sentiment. </p>"
   ]
  },
  {
   "cell_type": "code",
   "execution_count": 42,
   "id": "44b224f5",
   "metadata": {},
   "outputs": [],
   "source": [
    "joined_preprocessed_tweets = [\" \".join(tweet_words) for tweet_words in lemmatized_everything_else_words]"
   ]
  },
  {
   "cell_type": "code",
   "execution_count": 53,
   "id": "f510a6b9",
   "metadata": {},
   "outputs": [
    {
     "data": {
      "text/plain": [
       "['tiffanylue know listenin bad habit earlier start freakin part',\n",
       " 'layin n bed headache ughhhh waitin call',\n",
       " 'funeral ceremony gloomy friday',\n",
       " 'want hang friend soon',\n",
       " 'dannycastillo we want trade someone houston ticket one']"
      ]
     },
     "execution_count": 53,
     "metadata": {},
     "output_type": "execute_result"
    }
   ],
   "source": [
    "joined_preprocessed_tweets[0:5]"
   ]
  },
  {
   "cell_type": "markdown",
   "id": "9a60c613",
   "metadata": {},
   "source": [
    "<p>Now, we'll create the preprocessed data frame that we'll use for the training of our models later on. </p>"
   ]
  },
  {
   "cell_type": "code",
   "execution_count": 51,
   "id": "fb1c99f2",
   "metadata": {},
   "outputs": [],
   "source": [
    "tweets_preprocessed = pd.DataFrame({'content': joined_preprocessed_tweets, 'sentiment': tweets_data['sentiment']})"
   ]
  },
  {
   "cell_type": "code",
   "execution_count": 52,
   "id": "a89b7081",
   "metadata": {},
   "outputs": [
    {
     "data": {
      "text/html": [
       "<div>\n",
       "<style scoped>\n",
       "    .dataframe tbody tr th:only-of-type {\n",
       "        vertical-align: middle;\n",
       "    }\n",
       "\n",
       "    .dataframe tbody tr th {\n",
       "        vertical-align: top;\n",
       "    }\n",
       "\n",
       "    .dataframe thead th {\n",
       "        text-align: right;\n",
       "    }\n",
       "</style>\n",
       "<table border=\"1\" class=\"dataframe\">\n",
       "  <thead>\n",
       "    <tr style=\"text-align: right;\">\n",
       "      <th></th>\n",
       "      <th>content</th>\n",
       "      <th>sentiment</th>\n",
       "    </tr>\n",
       "  </thead>\n",
       "  <tbody>\n",
       "    <tr>\n",
       "      <th>0</th>\n",
       "      <td>tiffanylue know listenin bad habit earlier sta...</td>\n",
       "      <td>empty</td>\n",
       "    </tr>\n",
       "    <tr>\n",
       "      <th>1</th>\n",
       "      <td>layin n bed headache ughhhh waitin call</td>\n",
       "      <td>sadness</td>\n",
       "    </tr>\n",
       "    <tr>\n",
       "      <th>2</th>\n",
       "      <td>funeral ceremony gloomy friday</td>\n",
       "      <td>sadness</td>\n",
       "    </tr>\n",
       "    <tr>\n",
       "      <th>3</th>\n",
       "      <td>want hang friend soon</td>\n",
       "      <td>enthusiasm</td>\n",
       "    </tr>\n",
       "    <tr>\n",
       "      <th>4</th>\n",
       "      <td>dannycastillo we want trade someone houston ti...</td>\n",
       "      <td>neutral</td>\n",
       "    </tr>\n",
       "    <tr>\n",
       "      <th>...</th>\n",
       "      <td>...</td>\n",
       "      <td>...</td>\n",
       "    </tr>\n",
       "    <tr>\n",
       "      <th>39995</th>\n",
       "      <td>johnlloydtaylor</td>\n",
       "      <td>neutral</td>\n",
       "    </tr>\n",
       "    <tr>\n",
       "      <th>39996</th>\n",
       "      <td>happy mother day all love</td>\n",
       "      <td>love</td>\n",
       "    </tr>\n",
       "    <tr>\n",
       "      <th>39997</th>\n",
       "      <td>happy mother day mommy woman man long someone day</td>\n",
       "      <td>love</td>\n",
       "    </tr>\n",
       "    <tr>\n",
       "      <th>39998</th>\n",
       "      <td>niariley wassup beautiful follow me peep out m...</td>\n",
       "      <td>happiness</td>\n",
       "    </tr>\n",
       "    <tr>\n",
       "      <th>39999</th>\n",
       "      <td>mopedronin bullet train tokyo gf visit japan s...</td>\n",
       "      <td>love</td>\n",
       "    </tr>\n",
       "  </tbody>\n",
       "</table>\n",
       "<p>40000 rows × 2 columns</p>\n",
       "</div>"
      ],
      "text/plain": [
       "                                                 content   sentiment\n",
       "0      tiffanylue know listenin bad habit earlier sta...       empty\n",
       "1                layin n bed headache ughhhh waitin call     sadness\n",
       "2                         funeral ceremony gloomy friday     sadness\n",
       "3                                  want hang friend soon  enthusiasm\n",
       "4      dannycastillo we want trade someone houston ti...     neutral\n",
       "...                                                  ...         ...\n",
       "39995                                    johnlloydtaylor     neutral\n",
       "39996                          happy mother day all love        love\n",
       "39997  happy mother day mommy woman man long someone day        love\n",
       "39998  niariley wassup beautiful follow me peep out m...   happiness\n",
       "39999  mopedronin bullet train tokyo gf visit japan s...        love\n",
       "\n",
       "[40000 rows x 2 columns]"
      ]
     },
     "execution_count": 52,
     "metadata": {},
     "output_type": "execute_result"
    }
   ],
   "source": [
    "tweets_preprocessed"
   ]
  },
  {
   "cell_type": "markdown",
   "id": "9457316f",
   "metadata": {},
   "source": [
    "<p> I think we're ready with the preprocessing, we've achieved what we set out to achieve earlier in this section. Let's move on to the models building.</p>"
   ]
  },
  {
   "cell_type": "markdown",
   "id": "bd510bbc",
   "metadata": {},
   "source": [
    "# Models buidling"
   ]
  },
  {
   "cell_type": "markdown",
   "id": "9943787c",
   "metadata": {},
   "source": [
    "<p> As mentioned at the beginning of this notebook, we'll use either K-Nearest Neighbour(KNN) or a Naive Bayes Classificator, because it seems that these two are well-suited for our task (multi-class classification). Let's take a look at each of them, starting with K-Nearest Neighbour.</p>"
   ]
  },
  {
   "cell_type": "markdown",
   "id": "c491acb2",
   "metadata": {},
   "source": [
    "## K-Nearest Neighbour (KNN)"
   ]
  },
  {
   "cell_type": "markdown",
   "id": "f6f41f9f",
   "metadata": {},
   "source": [
    "<p>KNN is a supervised learning algorithm, which means that it needs a human (or any other sentient, intelligent being/creature/machine for that matter) to \"show\" it the correct way to classify whatever it's supposed to classify - be it images, user profiles, fake profiles, etc. </p>"
   ]
  },
  {
   "cell_type": "markdown",
   "id": "f1e43b73",
   "metadata": {},
   "source": [
    "<p>The reason we should consider KNN is because it does very well on classification tasks such as our task. It also does well with large sets of data, as most supervised learning algorithms in fact.</p>"
   ]
  },
  {
   "cell_type": "markdown",
   "id": "f0b55e46",
   "metadata": {},
   "source": [
    "### K-Nearest Neighbour inner workings"
   ]
  },
  {
   "cell_type": "markdown",
   "id": "d8ced6c1",
   "metadata": {},
   "source": [
    "<p>Let's see what's behind the scenes of KNN, and what exactly does \"K\" stand for. </p>"
   ]
  },
  {
   "cell_type": "markdown",
   "id": "b4aace8f",
   "metadata": {},
   "source": [
    "<p>When we plot our data points on a plot for the purpose of classification it usually tends to follow patterns, where a certain class data point positions itself around similar class data points, thus forming a cluster. Whenever we want to classify a new data, say a tweet as in our case, we just turn the data into numerical form(if it is not in such a form yet), plot it on that plot and we look for the closest neighbours to our data point. This is where \"K\" comes in. K stands for the amount of closest neighbors we want. The cluster of a given class of closest neighbours to our data points is considered to be the predicted class of our input data. As for the way the distance between each data point and our input data, it is euclidean distance and it uses the euclidean distance formula. It's probably appropriate to mention that it's also a good practice to set \"K\" to odd values such as 3 or 5, so that we don't get a tie between a couple of classes. Hopefully, that's clear enough. Let's get to the model building part. </p>"
   ]
  },
  {
   "cell_type": "markdown",
   "id": "cb9f8419",
   "metadata": {},
   "source": [
    "### K-Nearest Neighbour implementation"
   ]
  },
  {
   "cell_type": "code",
   "execution_count": 39,
   "id": "45befbf8",
   "metadata": {},
   "outputs": [],
   "source": [
    "Y =  lemmatized_everything_else_words"
   ]
  },
  {
   "cell_type": "code",
   "execution_count": 37,
   "id": "9db4a776",
   "metadata": {},
   "outputs": [],
   "source": [
    "KNN_Classifier = KNeighborsClassifier(n_neighbors=3)"
   ]
  },
  {
   "cell_type": "code",
   "execution_count": null,
   "id": "fb5f29ef",
   "metadata": {},
   "outputs": [],
   "source": [
    "KNN_Classifier.fit(X,y)"
   ]
  }
 ],
 "metadata": {
  "kernelspec": {
   "display_name": "Python 3 (ipykernel)",
   "language": "python",
   "name": "python3"
  },
  "language_info": {
   "codemirror_mode": {
    "name": "ipython",
    "version": 3
   },
   "file_extension": ".py",
   "mimetype": "text/x-python",
   "name": "python",
   "nbconvert_exporter": "python",
   "pygments_lexer": "ipython3",
   "version": "3.11.1"
  }
 },
 "nbformat": 4,
 "nbformat_minor": 5
}
